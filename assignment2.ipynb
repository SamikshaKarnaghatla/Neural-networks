{
 "cells": [
  {
   "cell_type": "code",
   "execution_count": 1,
   "metadata": {},
   "outputs": [
    {
     "name": "stdout",
     "output_type": "stream",
     "text": [
      "Full name: samiksha karnaghatla\n",
      "String with every other character: smkh angal\n"
     ]
    }
   ],
   "source": [
    "# question 1:\n",
    "def fullname(first_name, last_name):\n",
    "    # This function concatenates first_name and last_name with a space in between\n",
    "    return f\"{first_name} {last_name}\"\n",
    "\n",
    "def string_alternative(full_name):\n",
    "    # This function returns every other character from the full_name string\n",
    "    return full_name[::2]\n",
    "\n",
    "def main():\n",
    "    first_name = input(\"Enter your first name: \")\n",
    "    \n",
    "    last_name = input(\"Enter your last name: \")\n",
    "    \n",
    "    full_name = fullname(first_name, last_name)\n",
    "    print(f\"Full name: {full_name}\")\n",
    "    \n",
    "    # calling string_alternative function and printing it\n",
    "    alt_string = string_alternative(full_name)\n",
    "    print(f\"String with every other character: {alt_string}\")\n",
    "\n",
    "if __name__ == \"__main__\":\n",
    "    main()\n"
   ]
  },
  {
   "cell_type": "code",
   "execution_count": 2,
   "metadata": {},
   "outputs": [
    {
     "name": "stdout",
     "output_type": "stream",
     "text": [
      "Word count written to output.txt\n"
     ]
    }
   ],
   "source": [
    "# question 2:\n",
    "def word_count(input_file, output_file):\n",
    "    word_dict = {}\n",
    "    \n",
    "    with open(input_file, 'r') as file:\n",
    "        lines = file.readlines()\n",
    "    \n",
    "    # Splitting lines to words, word counting, and writing it to output file\n",
    "    with open(output_file, 'w') as file:\n",
    "        for line in lines:    \n",
    "            file.write(line)\n",
    "            \n",
    "            words = line.split()\n",
    "            \n",
    "            #converting all the words to lower case to avoid duplicates\n",
    "            for word in words:\n",
    "                word_lower = word.lower()  \n",
    "                word_dict[word_lower] = word_dict.get(word_lower, 0) + 1\n",
    "        \n",
    "        file.write(\"\\nWord_Count:\\n\")\n",
    "        for word, count in word_dict.items():\n",
    "            file.write(f\"{word}: {count}\\n\")\n",
    "    \n",
    "    print(\"Word count written to output.txt\")\n",
    "\n",
    "# note: please make sure your input and output text files are in the same folder or path as in where this python notebook file is present, for easy execution.\n",
    "\n",
    "def main():\n",
    "    input_file = 'input.txt'\n",
    "    output_file = 'output.txt'\n",
    "    \n",
    "    word_count(input_file, output_file)\n",
    "\n",
    "if __name__ == \"__main__\":\n",
    "    main()\n"
   ]
  },
  {
   "cell_type": "code",
   "execution_count": 3,
   "metadata": {},
   "outputs": [
    {
     "name": "stdout",
     "output_type": "stream",
     "text": [
      "Heights in inches: [37.0, 44.0, 89.0, 25.0, 93.0]\n",
      "Heights in cm (nested loop): [93.98, 111.76, 226.06, 63.5, 236.22]\n",
      "Heights in cm (list comprehension): [93.98, 111.76, 226.06, 63.5, 236.22]\n"
     ]
    }
   ],
   "source": [
    "# question 3:\n",
    "# Converting heights in inch to cms using nested loops\n",
    "def convert_heights_nested_loop(heights):\n",
    "    cm_heights = []\n",
    "    for height in heights:\n",
    "        cm_height = height * 2.54  \n",
    "        cm_heights.append(cm_height)\n",
    "    return cm_heights\n",
    "\n",
    "# Converting heights in inch to cms using list comprehension\n",
    "def convert_heights_list_comprehension(heights):\n",
    "    return [height * 2.54 for height in heights]\n",
    "\n",
    "def main():\n",
    "    heights_in_inches = []\n",
    "    \n",
    "    num_heights = int(input(\"Enter the number of heights: \"))\n",
    "    \n",
    "    for _ in range(num_heights):\n",
    "        height = float(input(\"Enter height in inches: \"))\n",
    "        heights_in_inches.append(height)\n",
    "    \n",
    "    print(\"Heights in inches:\", heights_in_inches)\n",
    "    \n",
    "    # heights conversion using nested loops\n",
    "    cm_heights_loop = convert_heights_nested_loop(heights_in_inches)\n",
    "    print(\"Heights in cm (nested loop):\", cm_heights_loop)\n",
    "    \n",
    "    # heights conversion using list comprehensions\n",
    "    cm_heights_comprehension = convert_heights_list_comprehension(heights_in_inches)\n",
    "    print(\"Heights in cm (list comprehension):\", cm_heights_comprehension)\n",
    "\n",
    "if __name__ == \"__main__\":\n",
    "    main()\n"
   ]
  }
 ],
 "metadata": {
  "kernelspec": {
   "display_name": "Python 3",
   "language": "python",
   "name": "python3"
  },
  "language_info": {
   "codemirror_mode": {
    "name": "ipython",
    "version": 3
   },
   "file_extension": ".py",
   "mimetype": "text/x-python",
   "name": "python",
   "nbconvert_exporter": "python",
   "pygments_lexer": "ipython3",
   "version": "3.12.3"
  }
 },
 "nbformat": 4,
 "nbformat_minor": 2
}
