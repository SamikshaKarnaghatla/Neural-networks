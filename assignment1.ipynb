{
  "cells": [
    {
      "cell_type": "code",
      "execution_count": 1,
      "metadata": {
        "colab": {
          "base_uri": "https://localhost:8080/"
        },
        "id": "gF_XK3rhw28C",
        "outputId": "3120daec-c2dc-4ac9-e63a-e5af07f01e64"
      },
      "outputs": [
        {
          "name": "stdout",
          "output_type": "stream",
          "text": [
            "askims\n"
          ]
        }
      ],
      "source": [
        "stringInput = list(input(\"Enter the string 'python': \"))\n",
        "input_string = list(input(\"Enter the String:\"))\n",
        "if len(input_string) >= 2:\n",
        "    del input_string[1]\n",
        "    del input_string[-2]\n",
        "reversed_string = input_string[::-1]\n",
        "print(\"\".join(reversed_string))\n"
      ]
    },
    {
      "cell_type": "code",
      "execution_count": 2,
      "metadata": {},
      "outputs": [
        {
          "name": "stdout",
          "output_type": "stream",
          "text": [
            "Addition: 30.0\n",
            "Subtraction: -10.0\n",
            "Multiplication: 200.0\n",
            "Division: 0.5\n"
          ]
        }
      ],
      "source": [
        "#Task-1 Part-2\n",
        "num1 = float(input(\"Enter the first number: \"))\n",
        "num2 = float(input(\"Enter the second number: \"))\n",
        "addition = num1 + num2\n",
        "subtraction = num1 - num2\n",
        "multiplication = num1 * num2\n",
        "division = num1 / num2 if num2 != 0 else \"undefined (division by zero)\"\n",
        "print(f\"Addition: {addition}\")\n",
        "print(f\"Subtraction: {subtraction}\")\n",
        "print(f\"Multiplication: {multiplication}\")\n",
        "print(f\"Division: {division}\")\n"
      ]
    },
    {
      "cell_type": "code",
      "execution_count": 3,
      "metadata": {
        "colab": {
          "base_uri": "https://localhost:8080/"
        },
        "id": "PA80Vx7Bzkbr",
        "outputId": "2b1f2cda-b2ad-44f8-f46a-43f32de8df15"
      },
      "outputs": [
        {
          "name": "stdout",
          "output_type": "stream",
          "text": [
            "Altered sentence: this is my first pythons code\n"
          ]
        }
      ],
      "source": [
        "\n",
        "def replace_python(sentence):\n",
        "    alter_sentence = sentence.replace('python', 'pythons')\n",
        "    return alter_sentence\n",
        "sentence = input(\"Enter a sentence: \")\n",
        "alter_sentence = replace_python(sentence)\n",
        "print(\"Altered sentence:\", alter_sentence)\n"
      ]
    },
    {
      "cell_type": "code",
      "execution_count": 4,
      "metadata": {
        "colab": {
          "base_uri": "https://localhost:8080/"
        },
        "id": "Z5PbXa3H1uY2",
        "outputId": "0b34a968-6dc8-4165-9e7b-44b9ae4ed2b8"
      },
      "outputs": [
        {
          "name": "stdout",
          "output_type": "stream",
          "text": [
            "The letter grade for score 75.0 is C.\n"
          ]
        }
      ],
      "source": [
        "\n",
        "try:\n",
        "    score = float(input(\"Enter the class score: \"))\n",
        "    if score >= 90:\n",
        "        grade = 'A'\n",
        "    elif score >= 80:\n",
        "        grade = 'B'\n",
        "    elif score >= 70:\n",
        "        grade = 'C'\n",
        "    elif score >= 60:\n",
        "        grade = 'D'\n",
        "    else:\n",
        "        grade = 'F'\n",
        "    print(f\"The letter grade for score {score} is {grade}.\")\n",
        "\n",
        "except ValueError:\n",
        "    print(\"Error: Please enter a valid numeric score.\")\n"
      ]
    }
  ],
  "metadata": {
    "colab": {
      "name": "Welcome To Colab",
      "provenance": [],
      "toc_visible": true
    },
    "kernelspec": {
      "display_name": "Python 3",
      "name": "python3"
    },
    "language_info": {
      "codemirror_mode": {
        "name": "ipython",
        "version": 3
      },
      "file_extension": ".py",
      "mimetype": "text/x-python",
      "name": "python",
      "nbconvert_exporter": "python",
      "pygments_lexer": "ipython3",
      "version": "3.12.3"
    }
  },
  "nbformat": 4,
  "nbformat_minor": 0
}
